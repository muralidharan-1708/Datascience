{
 "cells": [
  {
   "cell_type": "code",
   "execution_count": 23,
   "id": "3390997f-094d-47f4-ac77-14627a689ad9",
   "metadata": {},
   "outputs": [],
   "source": [
    "# Import necessary libraries\n",
    "import pandas as pd\n",
    "from sklearn.metrics.pairwise import cosine_similarity\n",
    "from sklearn.preprocessing import StandardScaler\n",
    "import numpy as np"
   ]
  },
  {
   "cell_type": "markdown",
   "id": "c4246a66-1ce9-4371-9b75-e2f7edc92c13",
   "metadata": {},
   "source": [
    "# Load the Dataset"
   ]
  },
  {
   "cell_type": "code",
   "execution_count": 24,
   "id": "e194816c-ecdb-42ba-bbd2-6f2e4c0762e9",
   "metadata": {},
   "outputs": [],
   "source": [
    "customers = pd.read_csv('Customers.csv')\n",
    "transactions = pd.read_csv('Transactions.csv')\n",
    "products = pd.read_csv('Products.csv')"
   ]
  },
  {
   "cell_type": "markdown",
   "id": "3555f8fe-5cac-4abc-a532-3e7d29e20fcb",
   "metadata": {},
   "source": [
    "# Merge Datasets"
   ]
  },
  {
   "cell_type": "code",
   "execution_count": 25,
   "id": "a91b8a59-a461-4d48-8f3b-ead728840a18",
   "metadata": {},
   "outputs": [
    {
     "data": {
      "text/html": [
       "<div>\n",
       "<style scoped>\n",
       "    .dataframe tbody tr th:only-of-type {\n",
       "        vertical-align: middle;\n",
       "    }\n",
       "\n",
       "    .dataframe tbody tr th {\n",
       "        vertical-align: top;\n",
       "    }\n",
       "\n",
       "    .dataframe thead th {\n",
       "        text-align: right;\n",
       "    }\n",
       "</style>\n",
       "<table border=\"1\" class=\"dataframe\">\n",
       "  <thead>\n",
       "    <tr style=\"text-align: right;\">\n",
       "      <th></th>\n",
       "      <th>TransactionID</th>\n",
       "      <th>CustomerID</th>\n",
       "      <th>ProductID</th>\n",
       "      <th>TransactionDate</th>\n",
       "      <th>Quantity</th>\n",
       "      <th>TotalValue</th>\n",
       "      <th>Price_x</th>\n",
       "      <th>ProductName</th>\n",
       "      <th>Category</th>\n",
       "      <th>Price_y</th>\n",
       "      <th>CustomerName</th>\n",
       "      <th>Region</th>\n",
       "      <th>SignupDate</th>\n",
       "    </tr>\n",
       "  </thead>\n",
       "  <tbody>\n",
       "    <tr>\n",
       "      <th>0</th>\n",
       "      <td>T00001</td>\n",
       "      <td>C0199</td>\n",
       "      <td>P067</td>\n",
       "      <td>2024-08-25 12:38:23</td>\n",
       "      <td>1</td>\n",
       "      <td>300.68</td>\n",
       "      <td>300.68</td>\n",
       "      <td>ComfortLiving Bluetooth Speaker</td>\n",
       "      <td>Electronics</td>\n",
       "      <td>300.68</td>\n",
       "      <td>Andrea Jenkins</td>\n",
       "      <td>Europe</td>\n",
       "      <td>2022-12-03</td>\n",
       "    </tr>\n",
       "    <tr>\n",
       "      <th>1</th>\n",
       "      <td>T00112</td>\n",
       "      <td>C0146</td>\n",
       "      <td>P067</td>\n",
       "      <td>2024-05-27 22:23:54</td>\n",
       "      <td>1</td>\n",
       "      <td>300.68</td>\n",
       "      <td>300.68</td>\n",
       "      <td>ComfortLiving Bluetooth Speaker</td>\n",
       "      <td>Electronics</td>\n",
       "      <td>300.68</td>\n",
       "      <td>Brittany Harvey</td>\n",
       "      <td>Asia</td>\n",
       "      <td>2024-09-04</td>\n",
       "    </tr>\n",
       "    <tr>\n",
       "      <th>2</th>\n",
       "      <td>T00166</td>\n",
       "      <td>C0127</td>\n",
       "      <td>P067</td>\n",
       "      <td>2024-04-25 07:38:55</td>\n",
       "      <td>1</td>\n",
       "      <td>300.68</td>\n",
       "      <td>300.68</td>\n",
       "      <td>ComfortLiving Bluetooth Speaker</td>\n",
       "      <td>Electronics</td>\n",
       "      <td>300.68</td>\n",
       "      <td>Kathryn Stevens</td>\n",
       "      <td>Europe</td>\n",
       "      <td>2024-04-04</td>\n",
       "    </tr>\n",
       "    <tr>\n",
       "      <th>3</th>\n",
       "      <td>T00272</td>\n",
       "      <td>C0087</td>\n",
       "      <td>P067</td>\n",
       "      <td>2024-03-26 22:55:37</td>\n",
       "      <td>2</td>\n",
       "      <td>601.36</td>\n",
       "      <td>300.68</td>\n",
       "      <td>ComfortLiving Bluetooth Speaker</td>\n",
       "      <td>Electronics</td>\n",
       "      <td>300.68</td>\n",
       "      <td>Travis Campbell</td>\n",
       "      <td>South America</td>\n",
       "      <td>2024-04-11</td>\n",
       "    </tr>\n",
       "    <tr>\n",
       "      <th>4</th>\n",
       "      <td>T00363</td>\n",
       "      <td>C0070</td>\n",
       "      <td>P067</td>\n",
       "      <td>2024-03-21 15:10:10</td>\n",
       "      <td>3</td>\n",
       "      <td>902.04</td>\n",
       "      <td>300.68</td>\n",
       "      <td>ComfortLiving Bluetooth Speaker</td>\n",
       "      <td>Electronics</td>\n",
       "      <td>300.68</td>\n",
       "      <td>Timothy Perez</td>\n",
       "      <td>Europe</td>\n",
       "      <td>2022-03-15</td>\n",
       "    </tr>\n",
       "    <tr>\n",
       "      <th>...</th>\n",
       "      <td>...</td>\n",
       "      <td>...</td>\n",
       "      <td>...</td>\n",
       "      <td>...</td>\n",
       "      <td>...</td>\n",
       "      <td>...</td>\n",
       "      <td>...</td>\n",
       "      <td>...</td>\n",
       "      <td>...</td>\n",
       "      <td>...</td>\n",
       "      <td>...</td>\n",
       "      <td>...</td>\n",
       "      <td>...</td>\n",
       "    </tr>\n",
       "    <tr>\n",
       "      <th>995</th>\n",
       "      <td>T00496</td>\n",
       "      <td>C0118</td>\n",
       "      <td>P037</td>\n",
       "      <td>2024-10-24 08:30:27</td>\n",
       "      <td>1</td>\n",
       "      <td>459.86</td>\n",
       "      <td>459.86</td>\n",
       "      <td>SoundWave Smartwatch</td>\n",
       "      <td>Electronics</td>\n",
       "      <td>459.86</td>\n",
       "      <td>Jacob Holt</td>\n",
       "      <td>South America</td>\n",
       "      <td>2022-01-22</td>\n",
       "    </tr>\n",
       "    <tr>\n",
       "      <th>996</th>\n",
       "      <td>T00759</td>\n",
       "      <td>C0059</td>\n",
       "      <td>P037</td>\n",
       "      <td>2024-06-04 02:15:24</td>\n",
       "      <td>3</td>\n",
       "      <td>1379.58</td>\n",
       "      <td>459.86</td>\n",
       "      <td>SoundWave Smartwatch</td>\n",
       "      <td>Electronics</td>\n",
       "      <td>459.86</td>\n",
       "      <td>Mrs. Kimberly Wright</td>\n",
       "      <td>North America</td>\n",
       "      <td>2024-04-07</td>\n",
       "    </tr>\n",
       "    <tr>\n",
       "      <th>997</th>\n",
       "      <td>T00922</td>\n",
       "      <td>C0018</td>\n",
       "      <td>P037</td>\n",
       "      <td>2024-04-05 13:05:32</td>\n",
       "      <td>4</td>\n",
       "      <td>1839.44</td>\n",
       "      <td>459.86</td>\n",
       "      <td>SoundWave Smartwatch</td>\n",
       "      <td>Electronics</td>\n",
       "      <td>459.86</td>\n",
       "      <td>Tyler Haynes</td>\n",
       "      <td>North America</td>\n",
       "      <td>2024-09-21</td>\n",
       "    </tr>\n",
       "    <tr>\n",
       "      <th>998</th>\n",
       "      <td>T00959</td>\n",
       "      <td>C0115</td>\n",
       "      <td>P037</td>\n",
       "      <td>2024-09-29 10:16:02</td>\n",
       "      <td>2</td>\n",
       "      <td>919.72</td>\n",
       "      <td>459.86</td>\n",
       "      <td>SoundWave Smartwatch</td>\n",
       "      <td>Electronics</td>\n",
       "      <td>459.86</td>\n",
       "      <td>Joshua Hamilton</td>\n",
       "      <td>Asia</td>\n",
       "      <td>2024-11-11</td>\n",
       "    </tr>\n",
       "    <tr>\n",
       "      <th>999</th>\n",
       "      <td>T00992</td>\n",
       "      <td>C0024</td>\n",
       "      <td>P037</td>\n",
       "      <td>2024-04-21 10:52:24</td>\n",
       "      <td>1</td>\n",
       "      <td>459.86</td>\n",
       "      <td>459.86</td>\n",
       "      <td>SoundWave Smartwatch</td>\n",
       "      <td>Electronics</td>\n",
       "      <td>459.86</td>\n",
       "      <td>Michele Cooley</td>\n",
       "      <td>North America</td>\n",
       "      <td>2024-02-05</td>\n",
       "    </tr>\n",
       "  </tbody>\n",
       "</table>\n",
       "<p>1000 rows × 13 columns</p>\n",
       "</div>"
      ],
      "text/plain": [
       "    TransactionID CustomerID ProductID      TransactionDate  Quantity  \\\n",
       "0          T00001      C0199      P067  2024-08-25 12:38:23         1   \n",
       "1          T00112      C0146      P067  2024-05-27 22:23:54         1   \n",
       "2          T00166      C0127      P067  2024-04-25 07:38:55         1   \n",
       "3          T00272      C0087      P067  2024-03-26 22:55:37         2   \n",
       "4          T00363      C0070      P067  2024-03-21 15:10:10         3   \n",
       "..            ...        ...       ...                  ...       ...   \n",
       "995        T00496      C0118      P037  2024-10-24 08:30:27         1   \n",
       "996        T00759      C0059      P037  2024-06-04 02:15:24         3   \n",
       "997        T00922      C0018      P037  2024-04-05 13:05:32         4   \n",
       "998        T00959      C0115      P037  2024-09-29 10:16:02         2   \n",
       "999        T00992      C0024      P037  2024-04-21 10:52:24         1   \n",
       "\n",
       "     TotalValue  Price_x                      ProductName     Category  \\\n",
       "0        300.68   300.68  ComfortLiving Bluetooth Speaker  Electronics   \n",
       "1        300.68   300.68  ComfortLiving Bluetooth Speaker  Electronics   \n",
       "2        300.68   300.68  ComfortLiving Bluetooth Speaker  Electronics   \n",
       "3        601.36   300.68  ComfortLiving Bluetooth Speaker  Electronics   \n",
       "4        902.04   300.68  ComfortLiving Bluetooth Speaker  Electronics   \n",
       "..          ...      ...                              ...          ...   \n",
       "995      459.86   459.86             SoundWave Smartwatch  Electronics   \n",
       "996     1379.58   459.86             SoundWave Smartwatch  Electronics   \n",
       "997     1839.44   459.86             SoundWave Smartwatch  Electronics   \n",
       "998      919.72   459.86             SoundWave Smartwatch  Electronics   \n",
       "999      459.86   459.86             SoundWave Smartwatch  Electronics   \n",
       "\n",
       "     Price_y          CustomerName         Region  SignupDate  \n",
       "0     300.68        Andrea Jenkins         Europe  2022-12-03  \n",
       "1     300.68       Brittany Harvey           Asia  2024-09-04  \n",
       "2     300.68       Kathryn Stevens         Europe  2024-04-04  \n",
       "3     300.68       Travis Campbell  South America  2024-04-11  \n",
       "4     300.68         Timothy Perez         Europe  2022-03-15  \n",
       "..       ...                   ...            ...         ...  \n",
       "995   459.86            Jacob Holt  South America  2022-01-22  \n",
       "996   459.86  Mrs. Kimberly Wright  North America  2024-04-07  \n",
       "997   459.86          Tyler Haynes  North America  2024-09-21  \n",
       "998   459.86       Joshua Hamilton           Asia  2024-11-11  \n",
       "999   459.86        Michele Cooley  North America  2024-02-05  \n",
       "\n",
       "[1000 rows x 13 columns]"
      ]
     },
     "execution_count": 25,
     "metadata": {},
     "output_type": "execute_result"
    }
   ],
   "source": [
    "# Merge datasets to create a unified dataset\n",
    "merged_df = transactions.merge(products, on='ProductID', how='left').merge(customers, on='CustomerID', how='left')\n",
    "merged_df"
   ]
  },
  {
   "cell_type": "markdown",
   "id": "e1114324-7e1a-4de0-9423-e595e7e2f201",
   "metadata": {},
   "source": [
    "# Create Transaction History"
   ]
  },
  {
   "cell_type": "code",
   "execution_count": 26,
   "id": "22d58a33-1a12-4e6d-b2a9-54e957a15fba",
   "metadata": {},
   "outputs": [
    {
     "name": "stdout",
     "output_type": "stream",
     "text": [
      "  CustomerID  Quantity  TotalValue  Category\n",
      "0      C0001        12     3354.52         3\n",
      "1      C0002        10     1862.74         2\n",
      "2      C0003        14     2725.38         3\n",
      "3      C0004        23     5354.88         3\n",
      "4      C0005         7     2034.24         2\n"
     ]
    }
   ],
   "source": [
    "# Group by CustomerID to create aggregated transaction-based features\n",
    "transaction_history = merged_df.groupby('CustomerID').agg({\n",
    "    'Quantity': 'sum',\n",
    "    'TotalValue': 'sum',\n",
    "    'Category': 'nunique'  # Count of unique categories purchased\n",
    "}).reset_index()\n",
    "\n",
    "# Display the transaction history\n",
    "print(transaction_history.head())\n"
   ]
  },
  {
   "cell_type": "markdown",
   "id": "e28b8526-9621-4c3b-84ba-7f96c0b8b88e",
   "metadata": {},
   "source": [
    "# Normalize Features"
   ]
  },
  {
   "cell_type": "code",
   "execution_count": 27,
   "id": "1d79359c-8934-4454-8678-bf99172b57cb",
   "metadata": {},
   "outputs": [
    {
     "name": "stdout",
     "output_type": "stream",
     "text": [
      "  CustomerID  Quantity  TotalValue  Category\n",
      "0      C0001 -0.122033   -0.061701  0.160540\n",
      "1      C0002 -0.448000   -0.877744 -0.904377\n",
      "2      C0003  0.203934   -0.405857  0.160540\n",
      "3      C0004  1.670787    1.032547  0.160540\n",
      "4      C0005 -0.936951   -0.783929 -0.904377\n"
     ]
    }
   ],
   "source": [
    "# Normalize numerical features for better similarity scoring\n",
    "scaler = StandardScaler()\n",
    "transaction_history[['Quantity', 'TotalValue', 'Category']] = scaler.fit_transform(\n",
    "    transaction_history[['Quantity', 'TotalValue', 'Category']]\n",
    ")\n",
    "\n",
    "# Display normalized data\n",
    "print(transaction_history.head())\n"
   ]
  },
  {
   "cell_type": "markdown",
   "id": "bd9eb38a-5712-4a0a-af9e-92baef8cfcfc",
   "metadata": {},
   "source": [
    "# Compute Cosine Similarity"
   ]
  },
  {
   "cell_type": "code",
   "execution_count": 28,
   "id": "dd087ce6-9246-4592-a210-0a06e463e110",
   "metadata": {},
   "outputs": [
    {
     "name": "stdout",
     "output_type": "stream",
     "text": [
      "CustomerID     C0001     C0002     C0003     C0004     C0005     C0006  \\\n",
      "CustomerID                                                               \n",
      "C0001       1.000000 -0.128906  0.255218 -0.581904  0.054656  0.153945   \n",
      "C0002      -0.128906  1.000000  0.185745 -0.682900  0.947223 -0.736899   \n",
      "C0003       0.255218  0.185745  1.000000 -0.055367 -0.024722 -0.754068   \n",
      "C0004      -0.581904 -0.682900 -0.055367  1.000000 -0.841335  0.275903   \n",
      "C0005       0.054656  0.947223 -0.024722 -0.841335  1.000000 -0.507986   \n",
      "\n",
      "CustomerID     C0007     C0008     C0009     C0010  ...     C0191     C0192  \\\n",
      "CustomerID                                          ...                       \n",
      "C0001      -0.076667  0.068403  0.278524 -0.255435  ... -0.456474  0.722137   \n",
      "C0002       0.925146 -0.860518  0.895945  0.968247  ...  0.891149  0.592890   \n",
      "C0003      -0.171144  0.305963  0.091381  0.342796  ... -0.209427  0.335503   \n",
      "C0004      -0.765629  0.757703 -0.935443 -0.513171  ... -0.457921 -0.949299   \n",
      "C0005       0.984474 -0.958000  0.972379  0.837051  ...  0.861395  0.705510   \n",
      "\n",
      "CustomerID     C0193     C0194     C0195     C0196     C0197     C0198  \\\n",
      "CustomerID                                                               \n",
      "C0001      -0.628727  0.594936 -0.476328 -0.058292 -0.064321  0.277484   \n",
      "C0002       0.793514 -0.825255 -0.701825 -0.716958  0.992893  0.894999   \n",
      "C0003      -0.282135  0.245330  0.108981 -0.816441  0.108159  0.084753   \n",
      "C0004      -0.265944  0.307477  0.983577  0.403185 -0.749273 -0.935813   \n",
      "C0005       0.736283 -0.767454 -0.879947 -0.524928  0.978636  0.973006   \n",
      "\n",
      "CustomerID     C0199     C0200  \n",
      "CustomerID                      \n",
      "C0001      -0.071064  0.277792  \n",
      "C0002       0.991749 -0.972957  \n",
      "C0003       0.092352  0.024897  \n",
      "C0004      -0.747825  0.608564  \n",
      "C0005       0.980175 -0.940173  \n",
      "\n",
      "[5 rows x 199 columns]\n"
     ]
    }
   ],
   "source": [
    "# Calculate cosine similarity\n",
    "similarity_matrix = cosine_similarity(transaction_history.drop('CustomerID', axis=1))\n",
    "similarity_df = pd.DataFrame(\n",
    "    similarity_matrix,\n",
    "    index=transaction_history['CustomerID'],\n",
    "    columns=transaction_history['CustomerID']\n",
    ")\n",
    "\n",
    "# Display similarity matrix for verification\n",
    "print(similarity_df.head())\n"
   ]
  },
  {
   "cell_type": "markdown",
   "id": "31f93473-0f45-48f2-9283-d567cdc43752",
   "metadata": {},
   "source": [
    "# Find Top 3 Lookalikes for the First 20 Customers"
   ]
  },
  {
   "cell_type": "code",
   "execution_count": 29,
   "id": "47d3c8e5-b580-48b2-8090-782074417f42",
   "metadata": {},
   "outputs": [],
   "source": [
    "# Find the top 3 lookalike customers for each of the first 20 customers\n",
    "lookalikes = {}\n",
    "for customer_id in customers['CustomerID'][:20]:  # Assuming the file has sorted customer IDs\n",
    "    if customer_id in similarity_df.index:\n",
    "        similarity_scores = similarity_df[customer_id].sort_values(ascending=False).iloc[1:4]  # Top 3 excluding self\n",
    "        lookalikes[customer_id] = list(zip(similarity_scores.index.tolist(), similarity_scores.values.tolist()))\n"
   ]
  },
  {
   "cell_type": "markdown",
   "id": "74560a7e-602c-4068-93fd-d61d9470edf4",
   "metadata": {},
   "source": [
    "# Create Lookalike DataFrame"
   ]
  },
  {
   "cell_type": "code",
   "execution_count": 30,
   "id": "d60dcf67-70c8-49f6-af9b-41df55d8f5f8",
   "metadata": {},
   "outputs": [
    {
     "name": "stdout",
     "output_type": "stream",
     "text": [
      "                             Top_1                        Top_2  \\\n",
      "C0001  (C0164, 0.9483103972840492)   (C0056, 0.935848588429012)   \n",
      "C0002   (C0073, 0.997928748038141)  (C0197, 0.9928926281197697)   \n",
      "C0003  (C0047, 0.9447404341219031)  (C0106, 0.9435035461271949)   \n",
      "C0004  (C0165, 0.9994054329613362)  (C0084, 0.9907744001327368)   \n",
      "C0005   (C0131, 0.999624303410505)  (C0058, 0.9996081115000927)   \n",
      "\n",
      "                             Top_3  \n",
      "C0001  (C0127, 0.9240311145070983)  \n",
      "C0002  (C0199, 0.9917489606462391)  \n",
      "C0003   (C0030, 0.934017142617637)  \n",
      "C0004  (C0018, 0.9877511817104291)  \n",
      "C0005   (C0097, 0.998687970720145)  \n"
     ]
    }
   ],
   "source": [
    "# Convert lookalike dictionary to a structured DataFrame\n",
    "lookalike_df = pd.DataFrame.from_dict(lookalikes, orient='index', columns=['Top_1', 'Top_2', 'Top_3'])\n",
    "\n",
    "# Save to CSV\n",
    "lookalike_df.to_csv('Lookalike.csv', index_label='CustomerID')\n",
    "\n",
    "# Display the lookalike DataFrame\n",
    "print(lookalike_df.head())\n"
   ]
  },
  {
   "cell_type": "markdown",
   "id": "575a9fc9-2d40-4698-a0f0-fd81b52ca63d",
   "metadata": {},
   "source": [
    "# Generate Lookalike Map"
   ]
  },
  {
   "cell_type": "code",
   "execution_count": 31,
   "id": "9972b8ce-3055-43e7-ba90-0704b525a1d3",
   "metadata": {},
   "outputs": [
    {
     "name": "stdout",
     "output_type": "stream",
     "text": [
      "Lookalike Map:\n",
      "{'C0001': [{'cust_id': 'C0164', 'score': 0.9483103972840492}, {'cust_id': 'C0056', 'score': 0.935848588429012}, {'cust_id': 'C0127', 'score': 0.9240311145070983}], 'C0002': [{'cust_id': 'C0073', 'score': 0.997928748038141}, {'cust_id': 'C0197', 'score': 0.9928926281197697}, {'cust_id': 'C0199', 'score': 0.9917489606462391}], 'C0003': [{'cust_id': 'C0047', 'score': 0.9447404341219031}, {'cust_id': 'C0106', 'score': 0.9435035461271949}, {'cust_id': 'C0030', 'score': 0.934017142617637}], 'C0004': [{'cust_id': 'C0165', 'score': 0.9994054329613362}, {'cust_id': 'C0084', 'score': 0.9907744001327368}, {'cust_id': 'C0018', 'score': 0.9877511817104291}], 'C0005': [{'cust_id': 'C0131', 'score': 0.999624303410505}, {'cust_id': 'C0058', 'score': 0.9996081115000927}, {'cust_id': 'C0097', 'score': 0.998687970720145}], 'C0006': [{'cust_id': 'C0079', 'score': 0.9999270505443565}, {'cust_id': 'C0187', 'score': 0.9829896907918099}, {'cust_id': 'C0196', 'score': 0.9774255533167279}], 'C0007': [{'cust_id': 'C0078', 'score': 0.9960890960878541}, {'cust_id': 'C0080', 'score': 0.9945118634346348}, {'cust_id': 'C0020', 'score': 0.9929716907890597}], 'C0008': [{'cust_id': 'C0169', 'score': 0.9970293770623759}, {'cust_id': 'C0017', 'score': 0.9913793944195421}, {'cust_id': 'C0162', 'score': 0.9884255659662666}], 'C0009': [{'cust_id': 'C0198', 'score': 0.9999777194170641}, {'cust_id': 'C0015', 'score': 0.9991882056886405}, {'cust_id': 'C0123', 'score': 0.9971000792023648}], 'C0010': [{'cust_id': 'C0176', 'score': 0.977734672394774}, {'cust_id': 'C0019', 'score': 0.9770264106540306}, {'cust_id': 'C0142', 'score': 0.9732471354513808}], 'C0011': [{'cust_id': 'C0139', 'score': 0.998655605133}, {'cust_id': 'C0051', 'score': 0.9926755627216379}, {'cust_id': 'C0100', 'score': 0.9905884575177992}], 'C0012': [{'cust_id': 'C0101', 'score': 0.9998239900274042}, {'cust_id': 'C0018', 'score': 0.9978497475713918}, {'cust_id': 'C0065', 'score': 0.9976770075718949}], 'C0013': [{'cust_id': 'C0138', 'score': 0.9996307004273489}, {'cust_id': 'C0155', 'score': 0.9990661278624771}, {'cust_id': 'C0108', 'score': 0.9955960754603835}], 'C0014': [{'cust_id': 'C0159', 'score': 0.9998318862667246}, {'cust_id': 'C0033', 'score': 0.9996468335438774}, {'cust_id': 'C0112', 'score': 0.9995051287178285}], 'C0015': [{'cust_id': 'C0198', 'score': 0.9992507620362361}, {'cust_id': 'C0009', 'score': 0.9991882056886405}, {'cust_id': 'C0095', 'score': 0.9989124351348521}], 'C0016': [{'cust_id': 'C0158', 'score': 0.9714013394003852}, {'cust_id': 'C0185', 'score': 0.8859057466526952}, {'cust_id': 'C0107', 'score': 0.8645068937170534}], 'C0017': [{'cust_id': 'C0113', 'score': 0.9985812192175396}, {'cust_id': 'C0162', 'score': 0.997564285058669}, {'cust_id': 'C0169', 'score': 0.9974002198767431}], 'C0018': [{'cust_id': 'C0012', 'score': 0.9978497475713918}, {'cust_id': 'C0101', 'score': 0.9966668548175652}, {'cust_id': 'C0156', 'score': 0.9945530425529129}], 'C0019': [{'cust_id': 'C0142', 'score': 0.9997970929992327}, {'cust_id': 'C0073', 'score': 0.9922599221179071}, {'cust_id': 'C0002', 'score': 0.9896247838839192}], 'C0020': [{'cust_id': 'C0080', 'score': 0.9998986990616696}, {'cust_id': 'C0128', 'score': 0.9997017035689356}, {'cust_id': 'C0110', 'score': 0.9988692518499304}]}\n"
     ]
    }
   ],
   "source": [
    "# Create the map structure\n",
    "lookalike_map = {\n",
    "    customer: [{'cust_id': cust_id, 'score': score} for cust_id, score in data]\n",
    "    for customer, data in lookalikes.items()\n",
    "}\n",
    "\n",
    "# Display the map\n",
    "print(\"Lookalike Map:\")\n",
    "print(lookalike_map)\n"
   ]
  }
 ],
 "metadata": {
  "kernelspec": {
   "display_name": "Python 3 (ipykernel)",
   "language": "python",
   "name": "python3"
  },
  "language_info": {
   "codemirror_mode": {
    "name": "ipython",
    "version": 3
   },
   "file_extension": ".py",
   "mimetype": "text/x-python",
   "name": "python",
   "nbconvert_exporter": "python",
   "pygments_lexer": "ipython3",
   "version": "3.12.3"
  }
 },
 "nbformat": 4,
 "nbformat_minor": 5
}
